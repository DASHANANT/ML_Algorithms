{
 "cells": [
  {
   "cell_type": "markdown",
   "metadata": {},
   "source": [
    "# AdaBoost"
   ]
  },
  {
   "cell_type": "code",
   "execution_count": 1,
   "metadata": {},
   "outputs": [],
   "source": [
    "import pandas as pd\n",
    "import numpy as np\n",
    "import matplotlib.pyplot as plt\n",
    "from sklearn.model_selection import train_test_split\n",
    "from sklearn.model_selection import train_test_split\n",
    "from sklearn.metrics import confusion_matrix\n",
    "\n",
    "from random import sample\n",
    "import random\n",
    "import warnings\n",
    "warnings.filterwarnings('ignore')"
   ]
  },
  {
   "cell_type": "code",
   "execution_count": 2,
   "metadata": {},
   "outputs": [
    {
     "data": {
      "text/html": [
       "<div>\n",
       "<style scoped>\n",
       "    .dataframe tbody tr th:only-of-type {\n",
       "        vertical-align: middle;\n",
       "    }\n",
       "\n",
       "    .dataframe tbody tr th {\n",
       "        vertical-align: top;\n",
       "    }\n",
       "\n",
       "    .dataframe thead th {\n",
       "        text-align: right;\n",
       "    }\n",
       "</style>\n",
       "<table border=\"1\" class=\"dataframe\">\n",
       "  <thead>\n",
       "    <tr style=\"text-align: right;\">\n",
       "      <th></th>\n",
       "      <th>age</th>\n",
       "      <th>job</th>\n",
       "      <th>marital</th>\n",
       "      <th>education</th>\n",
       "      <th>default</th>\n",
       "      <th>balance</th>\n",
       "      <th>housing</th>\n",
       "      <th>loan</th>\n",
       "      <th>contact</th>\n",
       "      <th>day</th>\n",
       "      <th>month</th>\n",
       "      <th>duration</th>\n",
       "      <th>campaign</th>\n",
       "      <th>pdays</th>\n",
       "      <th>previous</th>\n",
       "      <th>poutcome</th>\n",
       "      <th>y</th>\n",
       "    </tr>\n",
       "  </thead>\n",
       "  <tbody>\n",
       "    <tr>\n",
       "      <th>0</th>\n",
       "      <td>58</td>\n",
       "      <td>management</td>\n",
       "      <td>married</td>\n",
       "      <td>tertiary</td>\n",
       "      <td>no</td>\n",
       "      <td>2143</td>\n",
       "      <td>yes</td>\n",
       "      <td>no</td>\n",
       "      <td>unknown</td>\n",
       "      <td>5</td>\n",
       "      <td>may</td>\n",
       "      <td>261</td>\n",
       "      <td>1</td>\n",
       "      <td>-1</td>\n",
       "      <td>0</td>\n",
       "      <td>unknown</td>\n",
       "      <td>no</td>\n",
       "    </tr>\n",
       "    <tr>\n",
       "      <th>1</th>\n",
       "      <td>44</td>\n",
       "      <td>technician</td>\n",
       "      <td>single</td>\n",
       "      <td>secondary</td>\n",
       "      <td>no</td>\n",
       "      <td>29</td>\n",
       "      <td>yes</td>\n",
       "      <td>no</td>\n",
       "      <td>unknown</td>\n",
       "      <td>5</td>\n",
       "      <td>may</td>\n",
       "      <td>151</td>\n",
       "      <td>1</td>\n",
       "      <td>-1</td>\n",
       "      <td>0</td>\n",
       "      <td>unknown</td>\n",
       "      <td>no</td>\n",
       "    </tr>\n",
       "    <tr>\n",
       "      <th>2</th>\n",
       "      <td>33</td>\n",
       "      <td>entrepreneur</td>\n",
       "      <td>married</td>\n",
       "      <td>secondary</td>\n",
       "      <td>no</td>\n",
       "      <td>2</td>\n",
       "      <td>yes</td>\n",
       "      <td>yes</td>\n",
       "      <td>unknown</td>\n",
       "      <td>5</td>\n",
       "      <td>may</td>\n",
       "      <td>76</td>\n",
       "      <td>1</td>\n",
       "      <td>-1</td>\n",
       "      <td>0</td>\n",
       "      <td>unknown</td>\n",
       "      <td>no</td>\n",
       "    </tr>\n",
       "  </tbody>\n",
       "</table>\n",
       "</div>"
      ],
      "text/plain": [
       "   age           job  marital  education default  balance housing loan  \\\n",
       "0   58    management  married   tertiary      no     2143     yes   no   \n",
       "1   44    technician   single  secondary      no       29     yes   no   \n",
       "2   33  entrepreneur  married  secondary      no        2     yes  yes   \n",
       "\n",
       "   contact  day month  duration  campaign  pdays  previous poutcome   y  \n",
       "0  unknown    5   may       261         1     -1         0  unknown  no  \n",
       "1  unknown    5   may       151         1     -1         0  unknown  no  \n",
       "2  unknown    5   may        76         1     -1         0  unknown  no  "
      ]
     },
     "execution_count": 2,
     "metadata": {},
     "output_type": "execute_result"
    }
   ],
   "source": [
    "df=pd.read_csv('bank-full.csv')\n",
    "df.head(3)"
   ]
  },
  {
   "cell_type": "markdown",
   "metadata": {},
   "source": [
    "# Preprocessing"
   ]
  },
  {
   "cell_type": "code",
   "execution_count": 3,
   "metadata": {},
   "outputs": [
    {
     "data": {
      "text/plain": [
       "0"
      ]
     },
     "execution_count": 3,
     "metadata": {},
     "output_type": "execute_result"
    }
   ],
   "source": [
    "df.isnull().sum().sum()"
   ]
  },
  {
   "cell_type": "code",
   "execution_count": 4,
   "metadata": {},
   "outputs": [],
   "source": [
    "df=df.replace(to_replace=r'unknown', value=np.nan, regex=True)"
   ]
  },
  {
   "cell_type": "code",
   "execution_count": 5,
   "metadata": {},
   "outputs": [
    {
     "data": {
      "text/plain": [
       "age              0\n",
       "job            288\n",
       "marital          0\n",
       "education     1857\n",
       "default          0\n",
       "balance          0\n",
       "housing          0\n",
       "loan             0\n",
       "contact      13020\n",
       "day              0\n",
       "month            0\n",
       "duration         0\n",
       "campaign         0\n",
       "pdays            0\n",
       "previous         0\n",
       "poutcome     36959\n",
       "y                0\n",
       "dtype: int64"
      ]
     },
     "execution_count": 5,
     "metadata": {},
     "output_type": "execute_result"
    }
   ],
   "source": [
    "df.isnull().sum()"
   ]
  },
  {
   "cell_type": "code",
   "execution_count": 6,
   "metadata": {},
   "outputs": [],
   "source": [
    "df=df.drop(['poutcome','contact','education'], axis=1)"
   ]
  },
  {
   "cell_type": "code",
   "execution_count": 7,
   "metadata": {},
   "outputs": [],
   "source": [
    "df.pdays=df.pdays.replace(to_replace=-1, value=999, regex=True)"
   ]
  },
  {
   "cell_type": "code",
   "execution_count": 8,
   "metadata": {},
   "outputs": [],
   "source": [
    "df.job=df.job.fillna('Fresher')"
   ]
  },
  {
   "cell_type": "code",
   "execution_count": 9,
   "metadata": {},
   "outputs": [
    {
     "name": "stdout",
     "output_type": "stream",
     "text": [
      "age\n",
      "[58 44 33 47 35 28 42 43 41 29 53 57 51 45 60 56 32 25 40 39 52 46 36 49\n",
      " 59 37 50 54 55 48 24 38 31 30 27 34 23 26 61 22 21 20 66 62 83 75 67 70\n",
      " 65 68 64 69 72 71 19 76 85 63 90 82 73 74 78 80 94 79 77 86 95 81 18 89\n",
      " 84 87 92 93 88]\n",
      "\n",
      "job\n",
      "['management' 'technician' 'entrepreneur' 'blue-collar' 'Fresher'\n",
      " 'retired' 'admin.' 'services' 'self-employed' 'unemployed' 'housemaid'\n",
      " 'student']\n",
      "\n",
      "marital\n",
      "['married' 'single' 'divorced']\n",
      "\n",
      "default\n",
      "['no' 'yes']\n",
      "\n",
      "balance\n",
      "[ 2143    29     2 ...  8205 14204 16353]\n",
      "\n",
      "housing\n",
      "['yes' 'no']\n",
      "\n",
      "loan\n",
      "['no' 'yes']\n",
      "\n",
      "day\n",
      "[ 5  6  7  8  9 12 13 14 15 16 19 20 21 23 26 27 28 29 30  2  3  4 11 17\n",
      " 18 24 25  1 10 22 31]\n",
      "\n",
      "month\n",
      "['may' 'jun' 'jul' 'aug' 'oct' 'nov' 'dec' 'jan' 'feb' 'mar' 'apr' 'sep']\n",
      "\n",
      "duration\n",
      "[ 261  151   76 ... 1298 1246 1556]\n",
      "\n",
      "campaign\n",
      "[ 1  2  3  5  4  6  7  8  9 10 11 12 13 19 14 24 16 32 18 22 15 17 25 21\n",
      " 43 51 63 41 26 28 55 50 38 23 20 29 31 37 30 46 27 58 33 35 34 36 39 44]\n",
      "\n",
      "pdays\n",
      "[999 151 166  91  86 143 147  89 140 176 101 174 170 167 195 165 129 188\n",
      " 196 172 118 119 104 171 117 164 132 131 123 159 186 111 115 116 173 178\n",
      " 110 152  96 103 150 175 193 181 185 154 145 138 126 180 109 158 168  97\n",
      " 182 127 130 194 125 105 102  26 179  28 183 155 112 120 137 124 187 190\n",
      " 113 162 134 169 189   8 144 191 184 177   5  99 133  93  92  10 100 156\n",
      " 198 106 153 146 128   7 121 160 107  90  27 197 136 139 122 157 149 135\n",
      "  30 114  98 192 163  34  95 141  31 199  94 108  29 268 247 253 226 244\n",
      " 239 245 204 231 238 258 230 254 265  71 223 246 250 266 240 205 261 259\n",
      " 241 260 234 251 225 161 237 262 248 255 220 227 206 224 249 235 228 263\n",
      "   2 270 232 252 207 200 269 233 256 273 272 242 264 208 214 222 271 203\n",
      " 221 202 216 201 257 229 210 217  75 213  73  76 267 211 215  77 236  82\n",
      "   6 209 274   1 243 212 275  80 276   9 279  12 280  88 277  85  84 219\n",
      "  24  21 282  41 294  49 329 307 303 331 308 300  64 314 287 330 332 302\n",
      " 323 318 333  60 326 335 313 312 305 325 327 336 309 328 322  39 316 292\n",
      " 295 310 306 320 317 289  57 321 142 339 301 315 337 334 340 319  17  74\n",
      " 148 341 299 344 342 324 345 346 304 281 343 338  14 347  15 291 348 349\n",
      " 285 350 284  25 283 278  81   4  87  83  79  70  13 293  37  78  63  22\n",
      " 296 355  66  19  35 360 357 354 351 362 358 365 298 286 364 363  47 361\n",
      " 288 366 356 352 359 297 367 353 368  42 290  67 371 370 369  50  36 373\n",
      " 374 372 311 375 378  59 379  40  18  43  20  69  38 385  56  55  44 391\n",
      "  72 390  32  62 399 393  65 377 395 388 389 386  61 412 405 434 394 382\n",
      " 459 440 397 383  68 461 462 463 422  51 457 430 442 403 454 428 392 410\n",
      " 401 474 475 477 478  54 476 380 479  45  46 495  58  48 518  52 515 520\n",
      " 511 536 387 218  33 544 435 436 555 433 446 558 469 616 561 553 384 592\n",
      " 467 585 480 421 667 626 426 595 381 376 648 521 452 449 633 398  53 460\n",
      " 670 551 414 557 687 404 651 686 425 504 578 674 416 586 411 756 450 745\n",
      " 514 417 424 776 396 683 529 439 415 456 407 458 532 481 791 701 531 792\n",
      " 413 445 535 784 419 455 491 431 542 470 472 717 437   3 782 728 828 524\n",
      " 562 761 492 775 579 493 464 760 466 465 656 831 490 432 655 427 749 838\n",
      " 769 587 778 854 779 850 771 594 842 589 603 484 489 486 409 444 680 808\n",
      " 485 503 690 772 774 526 420 528 500 826 804 508 547 805 541 543 871 550\n",
      " 530]\n",
      "\n",
      "previous\n",
      "[  0   3   1   4   2  11  16   6   5  10  12   7  18   9  21   8  14  15\n",
      "  26  37  13  25  20  27  17  23  38  29  24  51 275  22  19  30  58  28\n",
      "  32  40  55  35  41]\n",
      "\n",
      "y\n",
      "['no' 'yes']\n",
      "\n"
     ]
    }
   ],
   "source": [
    "for col in df:\n",
    "    print(col)    \n",
    "    print(df[col].unique())\n",
    "    print(\"\")"
   ]
  },
  {
   "cell_type": "markdown",
   "metadata": {},
   "source": [
    "pdays: number of days that passed by after the client was last contacted from a previous campaign \n",
    "    (numeric; 999 means client was not previously contacted)"
   ]
  },
  {
   "cell_type": "markdown",
   "metadata": {},
   "source": [
    "# Plotting Data"
   ]
  },
  {
   "cell_type": "code",
   "execution_count": 10,
   "metadata": {},
   "outputs": [
    {
     "data": {
      "text/plain": [
       "array([[<matplotlib.axes._subplots.AxesSubplot object at 0x000002275C143DF0>]],\n",
       "      dtype=object)"
      ]
     },
     "execution_count": 10,
     "metadata": {},
     "output_type": "execute_result"
    },
    {
     "data": {
      "image/png": "[encoded data removed]",
      "text/plain": [
       "<Figure size 432x288 with 1 Axes>"
      ]
     },
     "metadata": {
      "needs_background": "light"
     },
     "output_type": "display_data"
    }
   ],
   "source": [
    "df.hist(column='age',bins=50)"
   ]
  },
  {
   "cell_type": "code",
   "execution_count": 11,
   "metadata": {},
   "outputs": [
    {
     "data": {
      "text/plain": [
       "array([[<matplotlib.axes._subplots.AxesSubplot object at 0x000002275C252100>]],\n",
       "      dtype=object)"
      ]
     },
     "execution_count": 11,
     "metadata": {},
     "output_type": "execute_result"
    },
    {
     "data": {
      "image/png": "[encoded data removed]",
      "text/plain": [
       "<Figure size 432x288 with 1 Axes>"
      ]
     },
     "metadata": {
      "needs_background": "light"
     },
     "output_type": "display_data"
    }
   ],
   "source": [
    "df.hist(column='day',bins=50)"
   ]
  },
  {
   "cell_type": "code",
   "execution_count": 12,
   "metadata": {},
   "outputs": [],
   "source": [
    "from sklearn import preprocessing\n",
    "leb = preprocessing.LabelEncoder()\n"
   ]
  },
  {
   "cell_type": "code",
   "execution_count": 13,
   "metadata": {},
   "outputs": [
    {
     "data": {
      "text/plain": [
       "LabelEncoder()"
      ]
     },
     "execution_count": 13,
     "metadata": {},
     "output_type": "execute_result"
    }
   ],
   "source": [
    "leb.fit(df['marital'].unique())"
   ]
  },
  {
   "cell_type": "code",
   "execution_count": 14,
   "metadata": {},
   "outputs": [],
   "source": [
    "df['marital']=leb.transform(df['marital'])"
   ]
  },
  {
   "cell_type": "markdown",
   "metadata": {},
   "source": [
    "# encoding data"
   ]
  },
  {
   "cell_type": "code",
   "execution_count": 15,
   "metadata": {},
   "outputs": [],
   "source": [
    "leb.fit(df['month'].unique())\n",
    "df['month']=leb.transform(df['month'])"
   ]
  },
  {
   "cell_type": "code",
   "execution_count": 16,
   "metadata": {},
   "outputs": [],
   "source": [
    "leb.fit(df['y'].unique())\n",
    "df['housing']=leb.transform(df['housing'])\n",
    "df['y']=leb.transform(df['y'])\n",
    "df['loan']=leb.transform(df['loan'])\n",
    "df['default']=leb.transform(df['default'])"
   ]
  },
  {
   "cell_type": "code",
   "execution_count": 17,
   "metadata": {},
   "outputs": [],
   "source": [
    "leb.fit(df['job'].unique())\n",
    "df['job']=leb.transform(df['job'])"
   ]
  },
  {
   "cell_type": "markdown",
   "metadata": {},
   "source": [
    "# Preprocessed Data "
   ]
  },
  {
   "cell_type": "code",
   "execution_count": 18,
   "metadata": {},
   "outputs": [
    {
     "data": {
      "text/html": [
       "<div>\n",
       "<style scoped>\n",
       "    .dataframe tbody tr th:only-of-type {\n",
       "        vertical-align: middle;\n",
       "    }\n",
       "\n",
       "    .dataframe tbody tr th {\n",
       "        vertical-align: top;\n",
       "    }\n",
       "\n",
       "    .dataframe thead th {\n",
       "        text-align: right;\n",
       "    }\n",
       "</style>\n",
       "<table border=\"1\" class=\"dataframe\">\n",
       "  <thead>\n",
       "    <tr style=\"text-align: right;\">\n",
       "      <th></th>\n",
       "      <th>age</th>\n",
       "      <th>job</th>\n",
       "      <th>marital</th>\n",
       "      <th>default</th>\n",
       "      <th>balance</th>\n",
       "      <th>housing</th>\n",
       "      <th>loan</th>\n",
       "      <th>day</th>\n",
       "      <th>month</th>\n",
       "      <th>duration</th>\n",
       "      <th>campaign</th>\n",
       "      <th>pdays</th>\n",
       "      <th>previous</th>\n",
       "      <th>y</th>\n",
       "    </tr>\n",
       "  </thead>\n",
       "  <tbody>\n",
       "    <tr>\n",
       "      <th>0</th>\n",
       "      <td>58</td>\n",
       "      <td>5</td>\n",
       "      <td>1</td>\n",
       "      <td>0</td>\n",
       "      <td>2143</td>\n",
       "      <td>1</td>\n",
       "      <td>0</td>\n",
       "      <td>5</td>\n",
       "      <td>8</td>\n",
       "      <td>261</td>\n",
       "      <td>1</td>\n",
       "      <td>999</td>\n",
       "      <td>0</td>\n",
       "      <td>0</td>\n",
       "    </tr>\n",
       "    <tr>\n",
       "      <th>1</th>\n",
       "      <td>44</td>\n",
       "      <td>10</td>\n",
       "      <td>2</td>\n",
       "      <td>0</td>\n",
       "      <td>29</td>\n",
       "      <td>1</td>\n",
       "      <td>0</td>\n",
       "      <td>5</td>\n",
       "      <td>8</td>\n",
       "      <td>151</td>\n",
       "      <td>1</td>\n",
       "      <td>999</td>\n",
       "      <td>0</td>\n",
       "      <td>0</td>\n",
       "    </tr>\n",
       "    <tr>\n",
       "      <th>2</th>\n",
       "      <td>33</td>\n",
       "      <td>3</td>\n",
       "      <td>1</td>\n",
       "      <td>0</td>\n",
       "      <td>2</td>\n",
       "      <td>1</td>\n",
       "      <td>1</td>\n",
       "      <td>5</td>\n",
       "      <td>8</td>\n",
       "      <td>76</td>\n",
       "      <td>1</td>\n",
       "      <td>999</td>\n",
       "      <td>0</td>\n",
       "      <td>0</td>\n",
       "    </tr>\n",
       "    <tr>\n",
       "      <th>3</th>\n",
       "      <td>47</td>\n",
       "      <td>2</td>\n",
       "      <td>1</td>\n",
       "      <td>0</td>\n",
       "      <td>1506</td>\n",
       "      <td>1</td>\n",
       "      <td>0</td>\n",
       "      <td>5</td>\n",
       "      <td>8</td>\n",
       "      <td>92</td>\n",
       "      <td>1</td>\n",
       "      <td>999</td>\n",
       "      <td>0</td>\n",
       "      <td>0</td>\n",
       "    </tr>\n",
       "    <tr>\n",
       "      <th>4</th>\n",
       "      <td>33</td>\n",
       "      <td>0</td>\n",
       "      <td>2</td>\n",
       "      <td>0</td>\n",
       "      <td>1</td>\n",
       "      <td>0</td>\n",
       "      <td>0</td>\n",
       "      <td>5</td>\n",
       "      <td>8</td>\n",
       "      <td>198</td>\n",
       "      <td>1</td>\n",
       "      <td>999</td>\n",
       "      <td>0</td>\n",
       "      <td>0</td>\n",
       "    </tr>\n",
       "  </tbody>\n",
       "</table>\n",
       "</div>"
      ],
      "text/plain": [
       "   age  job  marital  default  balance  housing  loan  day  month  duration  \\\n",
       "0   58    5        1        0     2143        1     0    5      8       261   \n",
       "1   44   10        2        0       29        1     0    5      8       151   \n",
       "2   33    3        1        0        2        1     1    5      8        76   \n",
       "3   47    2        1        0     1506        1     0    5      8        92   \n",
       "4   33    0        2        0        1        0     0    5      8       198   \n",
       "\n",
       "   campaign  pdays  previous  y  \n",
       "0         1    999         0  0  \n",
       "1         1    999         0  0  \n",
       "2         1    999         0  0  \n",
       "3         1    999         0  0  \n",
       "4         1    999         0  0  "
      ]
     },
     "execution_count": 18,
     "metadata": {},
     "output_type": "execute_result"
    }
   ],
   "source": [
    "df.head()"
   ]
  },
  {
   "cell_type": "code",
   "execution_count": 19,
   "metadata": {},
   "outputs": [],
   "source": [
    "df.to_csv('processed_data.csv') "
   ]
  },
  {
   "cell_type": "markdown",
   "metadata": {},
   "source": [
    "# Adaboost"
   ]
  },
  {
   "cell_type": "code",
   "execution_count": 20,
   "metadata": {},
   "outputs": [],
   "source": [
    "df=df.astype('float64')"
   ]
  },
  {
   "cell_type": "markdown",
   "metadata": {},
   "source": [
    "## AdaBoost algorithm\n",
    "Input N examples D = {(x1, y1), ...,(xN , yN )}, xi ∈ X ⊆ Rn, yi ∈ {−1, 1}\n",
    "\n",
    "T: number of hypotheses in the ensemble Initialize D1(i) = 1/N, i = 1, 2, . . . N 1: for t = 1 to T do\n",
    "\n",
    "2: Create a sample Dt by sampling D with replacement by taking into consider- ation the data points weights (as given in subsection 3.1)\n",
    "\n",
    "3: Train a Weak Learner using Dt and obtain the hypothesis ht\n",
    "\n",
    ": X→ {1, −1}\n",
    "\n",
    "4: Computed weighted error t = PN i=1 Dt(i){ht(xi)6=yi}\n",
    "\n",
    "5: If t ≤ 0.5 continue else go to step (2) 6: Compute hypothesis weight αt =1/2*log(1 − t)/t\n",
    "\n",
    "7: If t < T, update the data points weights: Dt+1(i) = Dt(i)e−yiαtht(xi) PNi=1 Dt(i)e−yiαtht(xi)\n",
    "\n",
    "8: end for 9: Final vote H(x) = sign(PTt=1 αtht(x)) is the weighted sum."
   ]
  },
  {
   "cell_type": "markdown",
   "metadata": {},
   "source": [
    "![image](https://res.cloudinary.com/dyd911kmh/image/upload/f_auto,q_auto:best/v1542651255/image_3_nwa5zf.png)"
   ]
  },
  {
   "cell_type": "code",
   "execution_count": 21,
   "metadata": {},
   "outputs": [],
   "source": [
    "class Adaboost():\n",
    "\n",
    "    def __init__(self):        \n",
    "        self.alpha = None\n",
    "        self.features = None\n",
    "        self.errors = None\n",
    "        self.weights = None\n",
    "        \n",
    "    def XY(self,df):\n",
    "        r,c=df.shape\n",
    "        y=np.array(df['y'])\n",
    "        x=np.array(df.iloc[:,:(c-2)])\n",
    "        return x,y\n",
    "    \n",
    "    def Train(self, X, y, nclf):        \n",
    "        n = X.shape[0]\n",
    "        # init numpy arrays\n",
    "        self.weights  = np.zeros((nclf,n))\n",
    "        self.features = np.zeros((nclf)).astype('int')\n",
    "        self.alpha    = np.zeros((nclf))\n",
    "        self.errors   = np.zeros((nclf))\n",
    "        self.threshold= np.zeros((nclf))\n",
    "        \n",
    "        \n",
    "        self.weights[0] = np.ones(n)*( 1/n )\n",
    "        df= pd.DataFrame(X,columns=None)\n",
    "        df['y']= y        \n",
    "        for t in range(nclf):\n",
    "            # fit  weak learner\n",
    "            print(' ')\n",
    "            print(\"--------------------weak Classifier--\",t,\"---------------------\")\n",
    "            df['w']= self.weights[t]\n",
    "            df  = df.sample(len(df), replace = True, weights = df['w'], axis = 0)            \n",
    "            X, y = self.XY(df)\n",
    "            w = self.weights[t]\n",
    "            model = TreeClassify()\n",
    "            feature ,thre = model.Train(X, y, w)            \n",
    "            #calculate error and stump weight from weak learner prediction\n",
    "            y_pred = model.predict(X,feature ,thre)            \n",
    "            err = w[(y_pred != y)].sum()            \n",
    "            #Classifier weight\n",
    "            Hw = np.log((1 - err) / err) / 2 \n",
    "            # update sample weights\n",
    "            new_w = (  w * np.exp(- Hw * y * y_pred))\n",
    "            #normalised\n",
    "            new_w= new_w / new_w.sum()            \n",
    "            # If not final iteration, update sample weights for t+1\n",
    "            if t+1 < nclf:\n",
    "                self.weights[t+1] = new_w\n",
    "            # save results of iteration\n",
    "            self.features[t] = feature\n",
    "            self.alpha[t] = Hw\n",
    "            self.errors[t] = err\n",
    "            self.threshold[t]= thre\n",
    "            print(\"-------Feature   choosen------\",self.features[t])        \n",
    "            print(\"-------Feature threshold------\",self.threshold[t]) \n",
    "            print(\"-------Classifier weight------\",self.alpha[t]) \n",
    "            print(' ')\n",
    "            \n",
    "    \n",
    "    def X_Predict(self, X, y):\n",
    "        nc=len(self.features)\n",
    "        n = X.shape[0]\n",
    "        pred = np.zeros((nc, n))\n",
    "        for p in range(nc):                        \n",
    "            for i in (self.features):                \n",
    "                for g in X[:,i]:\n",
    "                    if ( g <= self.threshold[p]):                        \n",
    "                        pred[p]= (-1)\n",
    "                    else: \n",
    "                        pred[p]= (1)\n",
    "                        \n",
    "        ypred = np.sign(pred.T @ self.alpha)        \n",
    "        cm=confusion_matrix(y, ypred)\n",
    "        print(cm)\n",
    "        a = np.sum(y == ypred) / len(y)\n",
    "        print('Model Score---',a*100)\n",
    "              \n",
    "    \n",
    "    \n",
    "    \n",
    "class TreeClassify():\n",
    "    \n",
    "    def __init__(self):\n",
    "        self.thresholds = None       \n",
    "       \n",
    "    \n",
    "    def Train(self,X,y,w):\n",
    "        \n",
    "        R, C = X.shape\n",
    "        self.thresholds = [ ]                \n",
    "        gini=[] \n",
    "        thre=[]\n",
    "        for c in range(C):\n",
    "            F = X[:, c]\n",
    "            t = np.sort(np.unique(F))\n",
    "            z=[ ]\n",
    "            if(len(t)>2):\n",
    "                for  i in range(len(t)-1):\n",
    "                    z.append((t[i]+t[i+1])/2)\n",
    "                p=[]\n",
    "                for k in z:\n",
    "                    p.append(self.gini_impurity(F,y,k))                    \n",
    "                idx=np.argmin(p)\n",
    "                thre.append(z[idx])\n",
    "                gini.append(np.min(p))                     \n",
    "            else:                \n",
    "                u=(self.gini_impurity(F,y,k))          \n",
    "                thre.append(1)\n",
    "                gini.append(u)\n",
    "        \n",
    "        \n",
    "        f = (np.argmin(gini))           \n",
    "        self.thresholds.append(thre)\n",
    "        return f, thre[f]  \n",
    "    \n",
    "    def gini_impurity(self,x,y,k):      \n",
    "        z=[]\n",
    "        x1,x2 = 0,0\n",
    "        df  = pd.DataFrame(x,columns=['x'])\n",
    "        df['y']= y        \n",
    "        if (len(df.x.unique())) >2 :\n",
    "            for i in df.x:\n",
    "                if i < k:\n",
    "                    z.append(-1)                    \n",
    "                else:\n",
    "                    z.append(1)                    \n",
    "        else:\n",
    "            for i in df.x:\n",
    "                if i==0:\n",
    "                    z.append(-1)\n",
    "                else:\n",
    "                    z.append(1) \n",
    "        df['z'] = z \n",
    "        \n",
    "        x1=df[df.y == -1]   \n",
    "        x2=df[df.y == 1] \n",
    "        x1_true = len(x1[df.z == df.y])\n",
    "        x1_false= len(x1[df.z != df.y]) # miss\n",
    "        x2_true = len(x2[df.z == df.y])\n",
    "        x2_false= len(x2[df.z != df.y]) # miss\n",
    "        \n",
    "        gini1=1-(x1_true/len(x1))**2-(x1_false/len(x1))**2\n",
    "        \n",
    "        gini2=1-(x1_true/len(x2))**2-(x2_false/len(x2))**2\n",
    "        \n",
    "        gini = (len(x1)/len(x))*gini1 +  (len(x2)/len(x))*gini2        \n",
    "        return gini    \n",
    "\n",
    "    def predict(self,x,f,k):\n",
    "        pred=[]\n",
    "        for i in x[:,f]:\n",
    "            if ( i < k):\n",
    "                pred.append(-1)\n",
    "            else: \n",
    "                pred.append(1)\n",
    "            \n",
    "        return np.array(pred)\n",
    "        "
   ]
  },
  {
   "cell_type": "code",
   "execution_count": 22,
   "metadata": {},
   "outputs": [
    {
     "data": {
      "text/html": [
       "<div>\n",
       "<style scoped>\n",
       "    .dataframe tbody tr th:only-of-type {\n",
       "        vertical-align: middle;\n",
       "    }\n",
       "\n",
       "    .dataframe tbody tr th {\n",
       "        vertical-align: top;\n",
       "    }\n",
       "\n",
       "    .dataframe thead th {\n",
       "        text-align: right;\n",
       "    }\n",
       "</style>\n",
       "<table border=\"1\" class=\"dataframe\">\n",
       "  <thead>\n",
       "    <tr style=\"text-align: right;\">\n",
       "      <th></th>\n",
       "      <th>age</th>\n",
       "      <th>job</th>\n",
       "      <th>marital</th>\n",
       "      <th>default</th>\n",
       "      <th>balance</th>\n",
       "      <th>housing</th>\n",
       "      <th>loan</th>\n",
       "      <th>day</th>\n",
       "      <th>month</th>\n",
       "      <th>duration</th>\n",
       "      <th>campaign</th>\n",
       "      <th>pdays</th>\n",
       "      <th>previous</th>\n",
       "      <th>y</th>\n",
       "    </tr>\n",
       "  </thead>\n",
       "  <tbody>\n",
       "    <tr>\n",
       "      <th>0</th>\n",
       "      <td>58.0</td>\n",
       "      <td>5.0</td>\n",
       "      <td>1.0</td>\n",
       "      <td>0.0</td>\n",
       "      <td>2143.0</td>\n",
       "      <td>1.0</td>\n",
       "      <td>0.0</td>\n",
       "      <td>5.0</td>\n",
       "      <td>8.0</td>\n",
       "      <td>261.0</td>\n",
       "      <td>1.0</td>\n",
       "      <td>999.0</td>\n",
       "      <td>0.0</td>\n",
       "      <td>0.0</td>\n",
       "    </tr>\n",
       "    <tr>\n",
       "      <th>1</th>\n",
       "      <td>44.0</td>\n",
       "      <td>10.0</td>\n",
       "      <td>2.0</td>\n",
       "      <td>0.0</td>\n",
       "      <td>29.0</td>\n",
       "      <td>1.0</td>\n",
       "      <td>0.0</td>\n",
       "      <td>5.0</td>\n",
       "      <td>8.0</td>\n",
       "      <td>151.0</td>\n",
       "      <td>1.0</td>\n",
       "      <td>999.0</td>\n",
       "      <td>0.0</td>\n",
       "      <td>0.0</td>\n",
       "    </tr>\n",
       "    <tr>\n",
       "      <th>2</th>\n",
       "      <td>33.0</td>\n",
       "      <td>3.0</td>\n",
       "      <td>1.0</td>\n",
       "      <td>0.0</td>\n",
       "      <td>2.0</td>\n",
       "      <td>1.0</td>\n",
       "      <td>1.0</td>\n",
       "      <td>5.0</td>\n",
       "      <td>8.0</td>\n",
       "      <td>76.0</td>\n",
       "      <td>1.0</td>\n",
       "      <td>999.0</td>\n",
       "      <td>0.0</td>\n",
       "      <td>0.0</td>\n",
       "    </tr>\n",
       "    <tr>\n",
       "      <th>3</th>\n",
       "      <td>47.0</td>\n",
       "      <td>2.0</td>\n",
       "      <td>1.0</td>\n",
       "      <td>0.0</td>\n",
       "      <td>1506.0</td>\n",
       "      <td>1.0</td>\n",
       "      <td>0.0</td>\n",
       "      <td>5.0</td>\n",
       "      <td>8.0</td>\n",
       "      <td>92.0</td>\n",
       "      <td>1.0</td>\n",
       "      <td>999.0</td>\n",
       "      <td>0.0</td>\n",
       "      <td>0.0</td>\n",
       "    </tr>\n",
       "    <tr>\n",
       "      <th>4</th>\n",
       "      <td>33.0</td>\n",
       "      <td>0.0</td>\n",
       "      <td>2.0</td>\n",
       "      <td>0.0</td>\n",
       "      <td>1.0</td>\n",
       "      <td>0.0</td>\n",
       "      <td>0.0</td>\n",
       "      <td>5.0</td>\n",
       "      <td>8.0</td>\n",
       "      <td>198.0</td>\n",
       "      <td>1.0</td>\n",
       "      <td>999.0</td>\n",
       "      <td>0.0</td>\n",
       "      <td>0.0</td>\n",
       "    </tr>\n",
       "  </tbody>\n",
       "</table>\n",
       "</div>"
      ],
      "text/plain": [
       "    age   job  marital  default  balance  housing  loan  day  month  duration  \\\n",
       "0  58.0   5.0      1.0      0.0   2143.0      1.0   0.0  5.0    8.0     261.0   \n",
       "1  44.0  10.0      2.0      0.0     29.0      1.0   0.0  5.0    8.0     151.0   \n",
       "2  33.0   3.0      1.0      0.0      2.0      1.0   1.0  5.0    8.0      76.0   \n",
       "3  47.0   2.0      1.0      0.0   1506.0      1.0   0.0  5.0    8.0      92.0   \n",
       "4  33.0   0.0      2.0      0.0      1.0      0.0   0.0  5.0    8.0     198.0   \n",
       "\n",
       "   campaign  pdays  previous    y  \n",
       "0       1.0  999.0       0.0  0.0  \n",
       "1       1.0  999.0       0.0  0.0  \n",
       "2       1.0  999.0       0.0  0.0  \n",
       "3       1.0  999.0       0.0  0.0  \n",
       "4       1.0  999.0       0.0  0.0  "
      ]
     },
     "execution_count": 22,
     "metadata": {},
     "output_type": "execute_result"
    }
   ],
   "source": [
    "df.head(5)"
   ]
  },
  {
   "cell_type": "code",
   "execution_count": 23,
   "metadata": {},
   "outputs": [],
   "source": [
    "#df  = df.sample(1000,axis = 0).reindex()\n",
    "n=len(df.columns)\n",
    "X = np.array(df.iloc[:,:(n-1)])\n",
    "df.y[df.y == 0] = -1\n",
    "y = np.array(df.y)\n"
   ]
  },
  {
   "cell_type": "code",
   "execution_count": 25,
   "metadata": {},
   "outputs": [
    {
     "name": "stdout",
     "output_type": "stream",
     "text": [
      " \n",
      "--------------------weak Classifier-- 0 ---------------------\n",
      "-------Feature   choosen------ 12\n",
      "-------Feature threshold------ 166.5\n",
      "-------Classifier weight------ 1.0132879599621665\n",
      " \n",
      " \n",
      "--------------------weak Classifier-- 1 ---------------------\n",
      "-------Feature   choosen------ 4\n",
      "-------Feature threshold------ 89810.5\n",
      "-------Classifier weight------ -0.0010550569874756058\n",
      " \n",
      " \n",
      "--------------------weak Classifier-- 2 ---------------------\n",
      "-------Feature   choosen------ 0\n",
      "-------Feature threshold------ 94.0\n",
      "-------Classifier weight------ -0.011893444062555766\n",
      " \n",
      " \n",
      "--------------------weak Classifier-- 3 ---------------------\n",
      "-------Feature   choosen------ 0\n",
      "-------Feature threshold------ 92.5\n",
      "-------Classifier weight------ 0.004946170488885771\n",
      " \n",
      " \n",
      "--------------------weak Classifier-- 4 ---------------------\n",
      "-------Feature   choosen------ 0\n",
      "-------Feature threshold------ 92.5\n",
      "-------Classifier weight------ 0.007948203427073705\n",
      " \n",
      "[[11982     0]\n",
      " [ 1582     0]]\n",
      "Model Score--- 88.33677381303451\n"
     ]
    }
   ],
   "source": [
    "\n",
    "X_train, X_test, y_train, y_test = train_test_split(X, y, test_size=0.3, random_state=55)\n",
    "\n",
    "# Adaboost classification with 5 weak classifiers\n",
    "MOD = Adaboost()\n",
    "MOD.Train(X_train, y_train,5)\n",
    "MOD.X_Predict(X_test, y_test)\n"
   ]
  }
 ],
 "metadata": {
  "kernelspec": {
   "display_name": "Python 3",
   "language": "python",
   "name": "python3"
  },
  "language_info": {
   "codemirror_mode": {
    "name": "ipython",
    "version": 3
   },
   "file_extension": ".py",
   "mimetype": "text/x-python",
   "name": "python",
   "nbconvert_exporter": "python",
   "pygments_lexer": "ipython3",
   "version": "3.8.3"
  }
 },
 "nbformat": 4,
 "nbformat_minor": 4
}
